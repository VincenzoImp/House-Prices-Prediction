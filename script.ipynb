{
 "cells": [
  {
   "attachments": {},
   "cell_type": "markdown",
   "metadata": {},
   "source": [
    "# 0. Import libraries and load Data"
   ]
  },
  {
   "cell_type": "code",
   "execution_count": 1,
   "metadata": {},
   "outputs": [],
   "source": [
    "!pip install pandas -q\n",
    "!pip install numpy -q\n",
    "!pip install matplotlib -q\n",
    "!pip install seaborn -q\n",
    "!pip install scikit-learn -q\n",
    "!pip install scipy -q\n",
    "!pip install feature_engine -q\n",
    "!pip install pgeocode -q\n",
    "!pip install tqdm -q"
   ]
  },
  {
   "cell_type": "code",
   "execution_count": 2,
   "metadata": {},
   "outputs": [],
   "source": [
    "import pandas as pd\n",
    "import numpy as np\n",
    "import matplotlib.pyplot as plt\n",
    "from scipy.stats import zscore\n",
    "import math\n",
    "import seaborn as sns\n",
    "import pgeocode\n",
    "from tqdm import tqdm"
   ]
  },
  {
   "cell_type": "code",
   "execution_count": 3,
   "metadata": {},
   "outputs": [
    {
     "name": "stderr",
     "output_type": "stream",
     "text": [
      "/tmp/ipykernel_9252/4245473066.py:3: DtypeWarning: Columns (7,9,11,13,17,18,19,22,23,24,25,26,28,29,30,32,33,34,35,36,37,38,40,41,42,43,44,45,46,47,48,49,50,51,52,53,54,55,56,57,58,59,60,61,62,63,64,65,66,67,68,69,70,71,72,74,77,80,82,83,84,85,86,87,90,91,92,95) have mixed types. Specify dtype option on import or set low_memory=False.\n",
      "  poi_df = pd.read_csv('data/poi.csv')\n"
     ]
    }
   ],
   "source": [
    "train_df = pd.read_csv('data/train.csv')\n",
    "test_df = pd.read_csv('data/test.csv')\n",
    "poi_df = pd.read_csv('data/poi.csv')"
   ]
  },
  {
   "attachments": {},
   "cell_type": "markdown",
   "metadata": {},
   "source": [
    "# 1. Data Preparing"
   ]
  },
  {
   "attachments": {},
   "cell_type": "markdown",
   "metadata": {},
   "source": [
    "# 1.1. Point of Interest Analysis"
   ]
  },
  {
   "cell_type": "code",
   "execution_count": 4,
   "metadata": {},
   "outputs": [
    {
     "name": "stdout",
     "output_type": "stream",
     "text": [
      "<class 'pandas.core.frame.DataFrame'>\n",
      "RangeIndex: 397382 entries, 0 to 397381\n",
      "Data columns (total 96 columns):\n",
      " #   Column                 Non-Null Count   Dtype  \n",
      "---  ------                 --------------   -----  \n",
      " 0   id_on_platform         397382 non-null  int64  \n",
      " 1   lat                    397382 non-null  float64\n",
      " 2   lon                    397382 non-null  float64\n",
      " 3   source                 397382 non-null  object \n",
      " 4   tags.addr:city         80929 non-null   object \n",
      " 5   tags.addr:country      32852 non-null   object \n",
      " 6   tags.addr:housenumber  104548 non-null  object \n",
      " 7   tags.addr:postcode     64669 non-null   object \n",
      " 8   tags.addr:street       97486 non-null   object \n",
      " 9   tags.alt_name:gl       1 non-null       object \n",
      " 10  tags.amenity           50459 non-null   object \n",
      " 11  tags.artwork_type      662 non-null     object \n",
      " 12  tags.barrier           42890 non-null   object \n",
      " 13  tags.bicycle           3878 non-null    object \n",
      " 14  tags.brand             4342 non-null    object \n",
      " 15  tags.brand:wikidata    3342 non-null    object \n",
      " 16  tags.brand:wikipedia   2967 non-null    object \n",
      " 17  tags.capital           5 non-null       object \n",
      " 18  tags.comment:it        1184 non-null    object \n",
      " 19  tags.created_by        2676 non-null    object \n",
      " 20  tags.crossing          30601 non-null   object \n",
      " 21  tags.ele               1694 non-null    float64\n",
      " 22  tags.fixme             2509 non-null    object \n",
      " 23  tags.foot              2620 non-null    object \n",
      " 24  tags.fuel:diesel       150 non-null     object \n",
      " 25  tags.fuel:lpg          50 non-null      object \n",
      " 26  tags.fuel:octane_95    145 non-null     object \n",
      " 27  tags.highway           77776 non-null   object \n",
      " 28  tags.loc_name          34 non-null      object \n",
      " 29  tags.mapillary         4582 non-null    object \n",
      " 30  tags.motor_vehicle     547 non-null     object \n",
      " 31  tags.name              54874 non-null   object \n",
      " 32  tags.name:ar           45 non-null      object \n",
      " 33  tags.name:be           21 non-null      object \n",
      " 34  tags.name:ca           9 non-null       object \n",
      " 35  tags.name:cs           17 non-null      object \n",
      " 36  tags.name:de           300 non-null     object \n",
      " 37  tags.name:east2276     1 non-null       object \n",
      " 38  tags.name:el           16 non-null      object \n",
      " 39  tags.name:en           1217 non-null    object \n",
      " 40  tags.name:eo           8 non-null       object \n",
      " 41  tags.name:es           160 non-null     object \n",
      " 42  tags.name:fa           11 non-null      object \n",
      " 43  tags.name:fi           10 non-null      object \n",
      " 44  tags.name:fr           462 non-null     object \n",
      " 45  tags.name:fur          6 non-null       object \n",
      " 46  tags.name:gl           5 non-null       object \n",
      " 47  tags.name:he           13 non-null      object \n",
      " 48  tags.name:hi           6 non-null       object \n",
      " 49  tags.name:hr           11 non-null      object \n",
      " 50  tags.name:hu           94 non-null      object \n",
      " 51  tags.name:it           1048 non-null    object \n",
      " 52  tags.name:ja           69 non-null      object \n",
      " 53  tags.name:kn           6 non-null       object \n",
      " 54  tags.name:ko           28 non-null      object \n",
      " 55  tags.name:la           27 non-null      object \n",
      " 56  tags.name:lb           6 non-null       object \n",
      " 57  tags.name:lmo          162 non-null     object \n",
      " 58  tags.name:lt           22 non-null      object \n",
      " 59  tags.name:nl           26 non-null      object \n",
      " 60  tags.name:oc           4 non-null       object \n",
      " 61  tags.name:pl           38 non-null      object \n",
      " 62  tags.name:pt           41 non-null      object \n",
      " 63  tags.name:ru           199 non-null     object \n",
      " 64  tags.name:sk           12 non-null      object \n",
      " 65  tags.name:sl           11 non-null      object \n",
      " 66  tags.name:sr           11 non-null      object \n",
      " 67  tags.name:tr           19 non-null      object \n",
      " 68  tags.name:uk           22 non-null      object \n",
      " 69  tags.name:za           1 non-null       object \n",
      " 70  tags.name:zh           101 non-null     object \n",
      " 71  tags.name:zh-Hans      7 non-null       object \n",
      " 72  tags.name:zh-Hant      7 non-null       object \n",
      " 73  tags.operator          16001 non-null   object \n",
      " 74  tags.place             739 non-null     object \n",
      " 75  tags.population        103 non-null     float64\n",
      " 76  tags.public_transport  12723 non-null   object \n",
      " 77  tags.railway           9578 non-null    object \n",
      " 78  tags.rank              3 non-null       float64\n",
      " 79  tags.ref               10692 non-null   object \n",
      " 80  tags.ref:ISTAT         2 non-null       object \n",
      " 81  tags.ref:mise          799 non-null     float64\n",
      " 82  tags.source:name:oc    1 non-null       object \n",
      " 83  tags.start_date        539 non-null     object \n",
      " 84  tags.station           223 non-null     object \n",
      " 85  tags.subject           13 non-null      object \n",
      " 86  tags.subway            244 non-null     object \n",
      " 87  tags.survey:date       9798 non-null    object \n",
      " 88  tags.tactile_paving    30428 non-null   object \n",
      " 89  tags.tourism           4438 non-null    object \n",
      " 90  tags.traffic_calming   937 non-null     object \n",
      " 91  tags.train             400 non-null     object \n",
      " 92  tags.tram              1333 non-null    object \n",
      " 93  tags.wheelchair        10077 non-null   object \n",
      " 94  tags.wikidata          1668 non-null    object \n",
      " 95  tags.wikipedia         1025 non-null    object \n",
      "dtypes: float64(6), int64(1), object(89)\n",
      "memory usage: 291.1+ MB\n"
     ]
    }
   ],
   "source": [
    "poi_df.info()"
   ]
  },
  {
   "cell_type": "code",
   "execution_count": 5,
   "metadata": {},
   "outputs": [],
   "source": [
    "poi_df = poi_df.filter(['lat', 'lon', 'tags.addr:postcode', 'tags.addr:country']).rename(columns={'tags.addr:postcode':'postcode', 'tags.addr:country':'country'})"
   ]
  },
  {
   "cell_type": "code",
   "execution_count": 6,
   "metadata": {},
   "outputs": [
    {
     "data": {
      "image/png": "[encoded data removed]",
      "text/plain": [
       "<Figure size 640x480 with 1 Axes>"
      ]
     },
     "metadata": {},
     "output_type": "display_data"
    }
   ],
   "source": [
    "sns.scatterplot(x='lon', y='lat', data=poi_df)\n",
    "plt.title('POI Scatterplot Longitude vs Latitude')\n",
    "plt.xlabel('Longitude')\n",
    "plt.ylabel('Latitude')\n",
    "plt.show()\n",
    "plt.close()"
   ]
  },
  {
   "attachments": {},
   "cell_type": "markdown",
   "metadata": {},
   "source": [
    "# 1.2. Train Dataset Analysis"
   ]
  },
  {
   "cell_type": "code",
   "execution_count": 7,
   "metadata": {},
   "outputs": [],
   "source": [
    "# drop id\n",
    "train_df.drop('id', axis=1, inplace=True)"
   ]
  },
  {
   "attachments": {},
   "cell_type": "markdown",
   "metadata": {},
   "source": [
    "# 1.3. Add Features"
   ]
  },
  {
   "cell_type": "code",
   "execution_count": 19,
   "metadata": {},
   "outputs": [],
   "source": [
    "def get_poi_features(lat, lon, poi_df, radius=0.001):\n",
    "    country, city_lat, city_lon, n_poi, postcode = np.nan, np.nan, np.nan, np.nan, np.nan\n",
    "    if math.isnan(lat) or math.isnan(lon):\n",
    "        return country, city_lat, city_lon, n_poi, postcode\n",
    "    # radius = 0.03 -> 3km\n",
    "    # get all poi in a certain radius from the current lat and lon\n",
    "    series = poi_df[(poi_df['lat']-lat)**2 + (poi_df['lon']-lon)**2 <= radius**2]\n",
    "    # n_poi = np.nan if series.shape[0] == 0 else series.shape[0]\n",
    "    if series.shape[0] == 0:\n",
    "        return country, city_lat, city_lon, n_poi, postcode\n",
    "    n_poi = series.shape[0] # define n_poi\n",
    "\n",
    "    radius= radius*10\n",
    "    series = poi_df[(poi_df['lat']-lat)**2 + (poi_df['lon']-lon)**2 <= radius**2]\n",
    "    if series['country'].mode().shape[0] != 0:\n",
    "        country = series['country'].mode()[0] # define country\n",
    "        series = series[series['country']==country]\n",
    "        if series['postcode'].mode().shape[0] != 0:\n",
    "            postcode = series['postcode'].mode()[0] # define postcode\n",
    "            try:\n",
    "                postcode = str(int(postcode))\n",
    "                postcode = '0'*(5-len(postcode))+postcode\n",
    "            except:\n",
    "                postcode = np.nan\n",
    "            if not math.isnan(country) and not math.isnan(postcode):\n",
    "                nomi = pgeocode.Nominatim(country)\n",
    "                nomi = nomi.query_postal_code(postcode)\n",
    "                if not math.isnan(nomi):\n",
    "                    city_lat, city_lon =  nomi.latitude, nomi.longitude # define city_lat and city_lon\n",
    "                try:\n",
    "                    postcode = int(postcode)\n",
    "                except:\n",
    "                    postcode = np.nan\n",
    "    return country, city_lat, city_lon, n_poi, postcode"
   ]
  },
  {
   "cell_type": "code",
   "execution_count": 9,
   "metadata": {},
   "outputs": [
    {
     "name": "stderr",
     "output_type": "stream",
     "text": [
      "100%|██████████| 46312/46312 [05:37<00:00, 137.29it/s]\n"
     ]
    }
   ],
   "source": [
    "poi_features = {\n",
    "    'country':[],\n",
    "    'city_lat':[],\n",
    "    'city_lon':[],\n",
    "    'n_poi':[],\n",
    "    'postcode':[]\n",
    "}\n",
    "for _, row in tqdm(train_df.iterrows(), total=train_df.shape[0]):\n",
    "    country, city_lat, city_lon, n_poi, postcode = get_poi_features(row['latitude'], row['latitude'], poi_df)\n",
    "    poi_features['country'].append(country)\n",
    "    poi_features['city_lat'].append(city_lat)\n",
    "    poi_features['city_lon'].append(city_lon)\n",
    "    poi_features['n_poi'].append(n_poi)\n",
    "    poi_features['postcode'].append(postcode)\n",
    "poi_features_df = pd.DataFrame(poi_features)"
   ]
  },
  {
   "cell_type": "code",
   "execution_count": null,
   "metadata": {},
   "outputs": [],
   "source": [
    "def lambda_ratio(x):\n",
    "    n_room = x['n_rooms']\n",
    "    n_bathroom = x['n_bathrooms']\n",
    "    if not math.isnan(n_room) and not math.isnan(n_bathroom):\n",
    "        return n_room/max(1, n_bathroom) \n",
    "    else:\n",
    "        return np.nan"
   ]
  },
  {
   "cell_type": "code",
   "execution_count": null,
   "metadata": {},
   "outputs": [],
   "source": [
    "train_df['ratio'] = train_df.apply(lambda x: lambda_ratio(x), axis=1)"
   ]
  },
  {
   "cell_type": "code",
   "execution_count": null,
   "metadata": {},
   "outputs": [],
   "source": [
    "def lambda_m2_per_bathrooms(x):\n",
    "    n_room = x['n_rooms']\n",
    "    n_bathroom = x['n_bathrooms']\n",
    "    m2 = x['surface']\n",
    "    if not math.isnan(n_bathroom) and not math.isnan(m2):\n",
    "        return m2/max(1, n_room*3 + n_bathroom)\n",
    "    else:\n",
    "        return np.nan"
   ]
  },
  {
   "cell_type": "code",
   "execution_count": null,
   "metadata": {},
   "outputs": [],
   "source": [
    "train_df['m2_per_bathrooms'] = train_df.apply(lambda x: lambda_m2_per_bathrooms(x), axis=1)"
   ]
  },
  {
   "attachments": {},
   "cell_type": "markdown",
   "metadata": {},
   "source": [
    "# 1.4. Fill NaNs"
   ]
  },
  {
   "cell_type": "code",
   "execution_count": null,
   "metadata": {},
   "outputs": [],
   "source": [
    "train_df['garden'] = train_df['garden'].fillna(False)\n",
    "train_df['balcony'] = train_df['balcony'].fillna(False)"
   ]
  },
  {
   "cell_type": "code",
   "execution_count": null,
   "metadata": {},
   "outputs": [],
   "source": [
    "train_df['garden'] = train_df['garden'].apply(lambda x: 1 if x == True else 0)\n",
    "train_df['balcony'] = train_df['balcony'].apply(lambda x: 1 if x == True else 0)"
   ]
  },
  {
   "cell_type": "code",
   "execution_count": null,
   "metadata": {},
   "outputs": [],
   "source": [
    "map_conditions = {}\n",
    "index = 0\n",
    "for value in train_df['conditions'].unique():\n",
    "    if value not in map_conditions:\n",
    "        map_conditions[value] = index\n",
    "        index += 1\n",
    "map_conditions"
   ]
  },
  {
   "cell_type": "code",
   "execution_count": null,
   "metadata": {},
   "outputs": [],
   "source": [
    "train_df['conditions'] = train_df['conditions'].apply(lambda x: map_conditions[x])\n",
    "train_df['conditions'] = train_df['conditions'].apply(lambda x: np.nan if x == map_conditions[np.nan] else x)"
   ]
  },
  {
   "attachments": {},
   "cell_type": "markdown",
   "metadata": {},
   "source": [
    "# 2. Data Processing"
   ]
  },
  {
   "attachments": {},
   "cell_type": "markdown",
   "metadata": {},
   "source": [
    "# 2.1. Data Transformation"
   ]
  },
  {
   "cell_type": "code",
   "execution_count": null,
   "metadata": {},
   "outputs": [],
   "source": [
    "x_train = train_df.drop('price', axis=1)\n",
    "y_train = train_df['price']"
   ]
  },
  {
   "cell_type": "code",
   "execution_count": null,
   "metadata": {},
   "outputs": [],
   "source": [
    "# StandardScaler\n",
    "from sklearn.preprocessing import StandardScaler\n",
    "x_scaler = StandardScaler()\n",
    "x_train = pd.DataFrame(x_scaler.fit_transform(x_train), columns=x_train.columns)\n",
    "y_scaler = StandardScaler()\n",
    "y_train = pd.DataFrame(y_scaler.fit_transform(y_train.values.reshape(-1, 1)), columns=['price'])"
   ]
  },
  {
   "cell_type": "code",
   "execution_count": null,
   "metadata": {},
   "outputs": [],
   "source": [
    "from sklearn.impute import KNNImputer\n",
    "x_imputer = KNNImputer()\n",
    "x_train = pd.DataFrame(x_imputer.fit_transform(x_train), columns=x_train.columns)"
   ]
  },
  {
   "cell_type": "code",
   "execution_count": null,
   "metadata": {},
   "outputs": [],
   "source": [
    "from sklearn.preprocessing import Normalizer\n",
    "x_normalizer = Normalizer()\n",
    "x_train = pd.DataFrame(x_normalizer.fit_transform(x_train), columns=x_train.columns)"
   ]
  },
  {
   "attachments": {},
   "cell_type": "markdown",
   "metadata": {},
   "source": [
    "# 2.2."
   ]
  },
  {
   "cell_type": "code",
   "execution_count": null,
   "metadata": {},
   "outputs": [],
   "source": [
    "train_df = pd.concat([x_train, y_train], axis=1)"
   ]
  },
  {
   "cell_type": "code",
   "execution_count": null,
   "metadata": {},
   "outputs": [],
   "source": [
    "original_shape = train_df.shape[0]\n",
    "z_scores = zscore(train_df)\n",
    "abs_z_scores = np.abs(z_scores)\n",
    "filtered_entries = (abs_z_scores < 5).all(axis=1)"
   ]
  },
  {
   "cell_type": "code",
   "execution_count": null,
   "metadata": {},
   "outputs": [],
   "source": [
    "train_df = train_df[filtered_entries]\n",
    "new_shape = train_df.shape[0]"
   ]
  },
  {
   "cell_type": "code",
   "execution_count": null,
   "metadata": {},
   "outputs": [],
   "source": [
    "print('original shape: {}'.format(original_shape))\n",
    "print('new shape: {}'.format(new_shape))\n",
    "print('percentage of rows removed: {}%'.format(((original_shape-new_shape)*100)/original_shape))"
   ]
  },
  {
   "attachments": {},
   "cell_type": "markdown",
   "metadata": {},
   "source": [
    "# 2.3."
   ]
  },
  {
   "cell_type": "code",
   "execution_count": null,
   "metadata": {},
   "outputs": [],
   "source": [
    "x_train = train_df.drop('price', axis=1)\n",
    "y_train = train_df['price']"
   ]
  },
  {
   "cell_type": "code",
   "execution_count": null,
   "metadata": {},
   "outputs": [],
   "source": [
    "from sklearn.ensemble import RandomForestRegressor\n",
    "\n",
    "# compute feature_importances\n",
    "rf = RandomForestRegressor(n_estimators=200, random_state=42, n_jobs=-1)\n",
    "rf.fit(x_train, y_train)\n",
    "sorted(rf.feature_importances_, reverse=True)"
   ]
  },
  {
   "cell_type": "code",
   "execution_count": null,
   "metadata": {},
   "outputs": [],
   "source": [
    "# plot feature_importances\n",
    "sorted_idx = rf.feature_importances_.argsort()\n",
    "plt.barh(x_train.columns[sorted_idx], rf.feature_importances_[sorted_idx])"
   ]
  },
  {
   "attachments": {},
   "cell_type": "markdown",
   "metadata": {},
   "source": [
    "# 4. Training"
   ]
  },
  {
   "cell_type": "code",
   "execution_count": null,
   "metadata": {},
   "outputs": [],
   "source": [
    "from sklearn.linear_model import LinearRegression\n",
    "from sklearn.ensemble import RandomForestRegressor, GradientBoostingRegressor\n",
    "from sklearn.neighbors import KNeighborsRegressor\n",
    "from sklearn.tree import DecisionTreeRegressor\n",
    "from sklearn.neural_network import MLPRegressor\n",
    "from sklearn.svm import SVR\n",
    "\n",
    "models = {\n",
    "    'LinearRegression': LinearRegression(),\n",
    "    'RandomForestRegressor': RandomForestRegressor(),\n",
    "    'GradientBoostingRegressor': GradientBoostingRegressor(),\n",
    "    'KNeighborsRegressor': KNeighborsRegressor(),\n",
    "    'DecisionTreeRegressor': DecisionTreeRegressor(),\n",
    "    'MLPRegressor': MLPRegressor(),\n",
    "    'SVR': SVR()\n",
    "}"
   ]
  },
  {
   "cell_type": "code",
   "execution_count": null,
   "metadata": {},
   "outputs": [],
   "source": [
    "for model_name, model in models.items():\n",
    "    print('model: {}'.format(model_name))\n",
    "    model.fit(x_train, y_train)"
   ]
  },
  {
   "attachments": {},
   "cell_type": "markdown",
   "metadata": {},
   "source": [
    "# 5. Evaluation"
   ]
  },
  {
   "cell_type": "code",
   "execution_count": null,
   "metadata": {},
   "outputs": [],
   "source": [
    "from sklearn.model_selection import cross_val_score\n",
    "def evaluate_model(model, x, y, y_scaler, scoring='neg_mean_squared_error'):\n",
    "    scores = cross_val_score(model, x, y, cv=5, scoring=scoring)\n",
    "    print('scores: {}'.format(scores))\n",
    "    print('mean: {}'.format(-scores.mean()))\n",
    "    print('std: {}'.format(scores.std()))\n",
    "    # plot scatter plot of y_pred vs y_true\n",
    "    y_pred = y_scaler.inverse_transform(model.predict(x).reshape(-1, 1))\n",
    "    y = y_scaler.inverse_transform(y.values.reshape(-1, 1))\n",
    "    plt.scatter(y, y_pred)\n",
    "    plt.plot([0, max(y.max(), y_pred.max())], [0, max(y.max(), y_pred.max())], 'r--', lw=2)\n",
    "    plt.title('{}'.format(model))\n",
    "    plt.xlabel('y_true')\n",
    "    plt.ylabel('y_pred')\n",
    "    plt.show()\n",
    "    plt.close()\n",
    "    return scores"
   ]
  },
  {
   "cell_type": "code",
   "execution_count": null,
   "metadata": {},
   "outputs": [],
   "source": [
    "performance = {model_name: {'MSE_mean': 0.0, 'MSE_std': 0.0} for model_name in models.keys()}"
   ]
  },
  {
   "cell_type": "code",
   "execution_count": null,
   "metadata": {},
   "outputs": [],
   "source": [
    "for model_name, model in models.items():\n",
    "    print('model: {}'.format(model_name))\n",
    "    MSE_scores = evaluate_model(model, x_train, y_train, y_scaler, scoring='neg_mean_squared_error')\n",
    "    performance[model_name]['MSE_mean'] = -MSE_scores.mean()\n",
    "    performance[model_name]['MSE_std'] = MSE_scores.std()"
   ]
  },
  {
   "cell_type": "code",
   "execution_count": null,
   "metadata": {},
   "outputs": [],
   "source": [
    "performance_df = pd.DataFrame.from_dict(performance, orient='index').sort_values(by='MSE_mean').reset_index().rename(columns={'index': 'model'})\n",
    "performance_df"
   ]
  },
  {
   "attachments": {},
   "cell_type": "markdown",
   "metadata": {},
   "source": [
    "# 6. Submission"
   ]
  },
  {
   "cell_type": "code",
   "execution_count": null,
   "metadata": {},
   "outputs": [],
   "source": [
    "def x_test_preprocessing(x_test, poi_df, map_conditions, x_scaler, x_imputer, x_normalizer):\n",
    "    x_test['n_poi'] = x_test.apply(lambda x: get_n_poi(x['latitude'], x['longitude'], poi_df), axis=1)\n",
    "    x_test['ratio'] = x_test.apply(lambda x: lambda_ratio(x), axis=1)\n",
    "    x_test['m2_per_bathrooms'] = x_test.apply(lambda x: lambda_m2_per_bathrooms(x), axis=1)\n",
    "    x_test['garden'] = x_test['garden'].fillna(False)\n",
    "    x_test['balcony'] = x_test['balcony'].fillna(False)\n",
    "    x_test['garden'] = x_test['garden'].apply(lambda x: 1 if x == True else 0)\n",
    "    x_test['balcony'] = x_test['balcony'].apply(lambda x: 1 if x == True else 0)\n",
    "    x_test['conditions'] = x_test['conditions'].apply(lambda x: map_conditions[x])\n",
    "    x_test['conditions'] = x_test['conditions'].apply(lambda x: np.nan if x == map_conditions[np.nan] else x)\n",
    "    x_test = pd.DataFrame(x_scaler.transform(x_test), columns=x_test.columns)\n",
    "    x_test = pd.DataFrame(x_imputer.transform(x_test), columns=x_test.columns)\n",
    "    x_test = pd.DataFrame(x_normalizer.transform(x_test), columns=x_test.columns)\n",
    "    return x_test"
   ]
  },
  {
   "cell_type": "code",
   "execution_count": null,
   "metadata": {},
   "outputs": [],
   "source": [
    "test_id = test_df['id']\n",
    "x_test = test_df.drop('id', axis=1)\n",
    "x_test = x_test_preprocessing(x_test, poi_df, map_conditions, x_scaler, x_imputer, x_normalizer)"
   ]
  },
  {
   "cell_type": "code",
   "execution_count": null,
   "metadata": {},
   "outputs": [],
   "source": [
    "def submission(model, filename, x_test, y_scaler):\n",
    "    y_pred = y_scaler.inverse_transform(model.predict(x_test).reshape(-1, 1))\n",
    "    y_pred = pd.DataFrame(y_pred, columns=['price'])\n",
    "    submission_df = pd.concat([test_id, y_pred], axis=1)\n",
    "    submission_df.to_csv(filename, index=False)\n",
    "    return"
   ]
  },
  {
   "cell_type": "code",
   "execution_count": null,
   "metadata": {},
   "outputs": [],
   "source": [
    "for model_name, model in models.items():\n",
    "    submission(model, 'submission/{}.csv'.format(model_name), x_test, y_scaler)"
   ]
  },
  {
   "cell_type": "markdown",
   "metadata": {},
   "source": [
    "# 7. Tuning\n",
    "\n",
    "- troviamo la combinazione di iperparametri migliori per il modello migliore che abbiamo fino ad ora ottenuto\n",
    "- quindi accordiamo il modello migliore"
   ]
  },
  {
   "cell_type": "code",
   "execution_count": null,
   "metadata": {},
   "outputs": [],
   "source": [
    "from sklearn.model_selection import GridSearchCV\n",
    "param_grid = {\n",
    "    'n_estimators': [200, 400, 600],\n",
    "    'max_depth': [None, 10, 15],\n",
    "    'max_features': [None, 'sqrt', 'log2'],\n",
    "    'bootstrap': [True, False]\n",
    "}\n",
    "rf = RandomForestRegressor(random_state=42, n_jobs=-1)\n",
    "grid_search = GridSearchCV(estimator=rf, param_grid=param_grid, scoring='neg_mean_squared_error', cv=3, n_jobs=-1, verbose=2)\n",
    "grid_search.fit(x_train, y_train)"
   ]
  },
  {
   "cell_type": "code",
   "execution_count": null,
   "metadata": {},
   "outputs": [],
   "source": [
    "best_params = grid_search.best_params_\n",
    "best_params"
   ]
  },
  {
   "cell_type": "code",
   "execution_count": null,
   "metadata": {},
   "outputs": [],
   "source": [
    "tuned_model = RandomForestRegressor(**best_params)\n",
    "tuned_model.fit(x_train, y_train)\n",
    "MSE_score = evaluate_model(tuned_model, x_train, y_train, y_scaler, scoring='neg_mean_squared_error')\n",
    "print('MSE: {:.3f} ({:.3f} std)'.format(-MSE_score.mean(), MSE_score.std()))"
   ]
  },
  {
   "cell_type": "code",
   "execution_count": null,
   "metadata": {},
   "outputs": [],
   "source": [
    "submission(tuned_model, 'submission/tuned_model.csv', x_test, y_scaler)"
   ]
  }
 ],
 "metadata": {
  "kernelspec": {
   "display_name": "Python 3 (ipykernel)",
   "language": "python",
   "name": "python3"
  },
  "language_info": {
   "codemirror_mode": {
    "name": "ipython",
    "version": 3
   },
   "file_extension": ".py",
   "mimetype": "text/x-python",
   "name": "python",
   "nbconvert_exporter": "python",
   "pygments_lexer": "ipython3",
   "version": "3.9.16"
  }
 },
 "nbformat": 4,
 "nbformat_minor": 4
}
